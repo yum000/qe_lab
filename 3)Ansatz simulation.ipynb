{
 "cells": [
  {
   "cell_type": "code",
   "execution_count": 4,
   "id": "8a4959ae",
   "metadata": {},
   "outputs": [],
   "source": [
    "from math import e, pi\n",
    "import numpy as np\n",
    "\n",
    "from qiskit_ionq import IonQProvider\n",
    "from qiskit import QuantumCircuit, transpile, IBMQ, execute\n",
    "from qiskit_aer import AerSimulator\n",
    "\n",
    "def aer_count(circ):\n",
    "    backend = AerSimulator()\n",
    "    qc = transpile(circ, backend)\n",
    "    job = backend.run(qc, shots = 10000) \n",
    "    result = job.result()\n",
    "    counts = result.get_counts()\n",
    "    print(counts)"
   ]
  },
  {
   "cell_type": "code",
   "execution_count": 5,
   "id": "5c76850e",
   "metadata": {},
   "outputs": [
    {
     "data": {
      "image/png": "[encoded data removed]",
      "text/plain": [
       "<Figure size 705.35x284.278 with 1 Axes>"
      ]
     },
     "execution_count": 5,
     "metadata": {},
     "output_type": "execute_result"
    }
   ],
   "source": [
    "def ansatz(l):\n",
    "    circ = QuantumCircuit(2,2)\n",
    "    circ.ry(l, [0,1])\n",
    "    circ.cx(0,1)\n",
    "    circ.ry(l, [0,1])\n",
    "    circ.cx(0,1)\n",
    "    circ.ry(l, [0,1])\n",
    "    circ.measure(0,1)\n",
    "    circ.measure(1,0)\n",
    "    return circ\n",
    "\n",
    "ansatz(pi/16).draw('mpl')"
   ]
  },
  {
   "cell_type": "code",
   "execution_count": 6,
   "id": "f2d6ad20",
   "metadata": {},
   "outputs": [
    {
     "name": "stdout",
     "output_type": "stream",
     "text": [
      "{'00': 8661, '11': 194, '01': 724, '10': 421}\n",
      "{'00': 5586, '01': 1941, '11': 1038, '10': 1435}\n",
      "{'11': 2545, '01': 2572, '00': 2317, '10': 2566}\n",
      "{'00': 308, '11': 4569, '01': 1868, '10': 3255}\n",
      "{'11': 5896, '10': 3385, '01': 611, '00': 108}\n",
      "{'10': 3071, '11': 5925, '00': 1004}\n",
      "{'01': 721, '00': 2053, '10': 2720, '11': 4506}\n",
      "{'11': 2498, '00': 2525, '01': 2442, '10': 2535}\n",
      "{'10': 2666, '01': 4284, '00': 2190, '11': 860}\n",
      "{'01': 5048, '10': 3395, '00': 1488, '11': 69}\n",
      "{'10': 4621, '01': 4577, '00': 745, '11': 57}\n",
      "{'01': 3201, '10': 6141, '11': 307, '00': 351}\n",
      "{'10': 7684, '01': 1786, '00': 88, '11': 442}\n",
      "{'10': 8988, '01': 689, '11': 312, '00': 11}\n",
      "{'10': 9763, '01': 144, '11': 93}\n",
      "{'10': 10000}\n"
     ]
    }
   ],
   "source": [
    "for i in range(16):\n",
    "    aer_count(ansatz((i+1)*pi/16))"
   ]
  },
  {
   "cell_type": "markdown",
   "id": "4e654da7",
   "metadata": {},
   "source": [
    "# Implementation on IonQ devices"
   ]
  },
  {
   "cell_type": "code",
   "execution_count": null,
   "id": "cb04025c",
   "metadata": {},
   "outputs": [],
   "source": [
    "#provider = IonQProvider(\"\")\n",
    "backend = provider.get_backend(\"ionq_qpu.aria-1\")\n",
    "job_id_list = [] \n",
    "for i in range(16):\n",
    "    circ_transpiled = transpile(ansatz((i+1)*pi/16), backend)\n",
    "    job = execute(circ_transpiled, backend, shots= 1000)\n",
    "    job_id_list.append(job.job_id())\n",
    "    print(job.job_id())"
   ]
  },
  {
   "cell_type": "code",
   "execution_count": null,
   "id": "ff523b3e",
   "metadata": {},
   "outputs": [],
   "source": [
    "qpu_backend = provider.get_backend(\"ionq_qpu.aria-1\")\n",
    "for i in range(15):\n",
    "    job_id = job_id_list[i]\n",
    "    job = qpu_backend.retrieve_job(job_id)\n",
    "    result = job.result()\n",
    "    counts = result.get_counts()\n",
    "    print(counts)"
   ]
  }
 ],
 "metadata": {
  "kernelspec": {
   "display_name": "Python 3 (ipykernel)",
   "language": "python",
   "name": "python3"
  },
  "language_info": {
   "codemirror_mode": {
    "name": "ipython",
    "version": 3
   },
   "file_extension": ".py",
   "mimetype": "text/x-python",
   "name": "python",
   "nbconvert_exporter": "python",
   "pygments_lexer": "ipython3",
   "version": "3.9.13"
  }
 },
 "nbformat": 4,
 "nbformat_minor": 5
}
