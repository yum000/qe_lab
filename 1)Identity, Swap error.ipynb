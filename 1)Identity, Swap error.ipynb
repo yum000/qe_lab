{
 "cells": [
  {
   "cell_type": "code",
   "execution_count": null,
   "id": "d8b97306",
   "metadata": {},
   "outputs": [],
   "source": [
    "import asyncio\n",
    "import numpy as np\n",
    "import matplotlib.pyplot as plt\n",
    "from math import pi\n",
    "import math\n",
    "np.set_printoptions(threshold=np.inf, linewidth=np.inf) #inf = infinity\n",
    "from IPython import get_ipython\n",
    "get_ipython().run_line_magic('matplotlib', 'inline')\n",
    "import string\n",
    "import time\n",
    "from datetime import datetime\n",
    "import logging\n",
    "\n",
    "from braket.circuits import Circuit, Gate, Instruction, circuit, Observable\n",
    "from braket.aws import AwsDevice, AwsQuantumTask\n",
    "from braket.devices import LocalSimulator\n",
    "\n",
    "device = AwsDevice(\"arn:aws:braket:us-east-1::device/qpu/ionq/Harmony\") "
   ]
  },
  {
   "cell_type": "markdown",
   "id": "f94b7585-5f80-43ff-ae73-5fd9b6c80911",
   "metadata": {},
   "source": [
    "# Identity"
   ]
  },
  {
   "cell_type": "code",
   "execution_count": null,
   "id": "29206efc",
   "metadata": {},
   "outputs": [],
   "source": [
    "id00 = Circuit().rz(0,4*pi).rz(1,4*pi)\n",
    "id01 = Circuit().rz(0,4*pi).x(1)\n",
    "id10 = Circuit().x(0).rz(1,4*pi)\n",
    "id11 = Circuit().x(0).x(1)"
   ]
  },
  {
   "cell_type": "code",
   "execution_count": 54,
   "id": "05d3d3ca-21c4-423e-8ac5-0448859d61b8",
   "metadata": {},
   "outputs": [
    {
     "name": "stdout",
     "output_type": "stream",
     "text": [
      "00 arn:aws:braket:us-east-1:291250255500:quantum-task/2ea5cb38-e462-41e1-a926-0dd1b0ded8bb\n",
      "01 arn:aws:braket:us-east-1:291250255500:quantum-task/9c8405e3-fb52-497d-b23a-de83e7697c02\n",
      "10 arn:aws:braket:us-east-1:291250255500:quantum-task/f0f5a867-fc1b-4b3d-a012-f3f1a1ca6421\n",
      "11 arn:aws:braket:us-east-1:291250255500:quantum-task/10721166-688a-40c6-b991-07a12722bf61\n"
     ]
    }
   ],
   "source": [
    "taski00 = device.run(id00, shots=1000)\n",
    "taski01 = device.run(id01, shots=1000)\n",
    "taski10 = device.run(id10, shots=1000)\n",
    "taski11 = device.run(id11, shots=1000)\n",
    "\n",
    "task_i00 = taski00.id\n",
    "task_i01 = taski01.id\n",
    "task_i10 = taski10.id\n",
    "task_i11 = taski11.id\n",
    "\n",
    "print(\"00\", task_i00)\n",
    "print(\"01\", task_i01)\n",
    "print(\"10\", task_i10)\n",
    "print(\"11\", task_i11)"
   ]
  },
  {
   "cell_type": "code",
   "execution_count": 59,
   "id": "b43685c3-7cff-462f-8413-61fbe6d70fab",
   "metadata": {},
   "outputs": [
    {
     "name": "stdout",
     "output_type": "stream",
     "text": [
      "00:  Counter({'00': 994, '01': 4, '10': 2})\n",
      "01:  Counter({'01': 984, '00': 15, '11': 1})\n",
      "10:  Counter({'10': 972, '00': 24, '11': 4})\n",
      "11:  Counter({'11': 976, '01': 17, '10': 7})\n"
     ]
    }
   ],
   "source": [
    "task_load_i00 = AwsQuantumTask(arn = 'arn:aws:braket:us-east-1:291250255500:quantum-task/2ea5cb38-e462-41e1-a926-0dd1b0ded8bb')\n",
    "task_load_i01 = AwsQuantumTask(arn = 'arn:aws:braket:us-east-1:291250255500:quantum-task/9c8405e3-fb52-497d-b23a-de83e7697c02')\n",
    "task_load_i10 = AwsQuantumTask(arn = 'arn:aws:braket:us-east-1:291250255500:quantum-task/f0f5a867-fc1b-4b3d-a012-f3f1a1ca6421')\n",
    "task_load_i11 = AwsQuantumTask(arn = 'arn:aws:braket:us-east-1:291250255500:quantum-task/10721166-688a-40c6-b991-07a12722bf61')\n",
    "\n",
    "print(\"00: \", task_load_i00.result().measurement_counts)\n",
    "print(\"01: \", task_load_i01.result().measurement_counts)\n",
    "print(\"10: \", task_load_i10.result().measurement_counts)\n",
    "print(\"11: \", task_load_i11.result().measurement_counts)"
   ]
  },
  {
   "cell_type": "markdown",
   "id": "d46d0d67-a833-416b-a288-ae393242db62",
   "metadata": {},
   "source": [
    "# SWAP"
   ]
  },
  {
   "cell_type": "code",
   "execution_count": null,
   "id": "f49b5d55",
   "metadata": {},
   "outputs": [],
   "source": [
    "sw00 = Circuit().swap(0,1)\n",
    "sw01 = Circuit().x(1).swap(0,1)\n",
    "sw10 = Circuit().x(0).swap(0,1)\n",
    "sw11 = Circuit().x(0).x(1).swap(0,1)"
   ]
  },
  {
   "cell_type": "code",
   "execution_count": 57,
   "id": "fe5e6f97-4429-4982-8986-c722ef14a2c5",
   "metadata": {},
   "outputs": [
    {
     "name": "stdout",
     "output_type": "stream",
     "text": [
      "00 arn:aws:braket:us-east-1:291250255500:quantum-task/678eef21-8e4a-47d5-96b1-a89d5fbc1c5d\n",
      "01 arn:aws:braket:us-east-1:291250255500:quantum-task/0550e4a9-c8eb-451b-9248-38ea70ba5f42\n",
      "10 arn:aws:braket:us-east-1:291250255500:quantum-task/41c93c2d-68cb-4670-89dc-77828586be29\n",
      "11 arn:aws:braket:us-east-1:291250255500:quantum-task/68c4b43b-4fbd-43bc-b51e-f22e184bd63b\n"
     ]
    }
   ],
   "source": [
    "tasks00 = device.run(sw00, shots=1000)\n",
    "tasks01 = device.run(sw01, shots=1000)\n",
    "tasks10 = device.run(sw10, shots=1000)\n",
    "tasks11 = device.run(sw11, shots=1000)\n",
    "\n",
    "task_s00 = tasks00.id\n",
    "task_s01 = tasks01.id\n",
    "task_s10 = tasks10.id\n",
    "task_s11 = tasks11.id\n",
    "\n",
    "print(\"00\", task_s00)\n",
    "print(\"01\", task_s01)\n",
    "print(\"10\", task_s10)\n",
    "print(\"11\", task_s11)"
   ]
  },
  {
   "cell_type": "code",
   "execution_count": 60,
   "id": "86303798-6c93-446f-b18c-f55dca0469cc",
   "metadata": {},
   "outputs": [
    {
     "name": "stdout",
     "output_type": "stream",
     "text": [
      "00:  Counter({'00': 948, '01': 22, '10': 16, '11': 14})\n",
      "01:  Counter({'10': 941, '00': 29, '11': 21, '01': 9})\n",
      "10:  Counter({'01': 942, '00': 30, '10': 15, '11': 13})\n",
      "11:  Counter({'11': 935, '01': 30, '10': 20, '00': 15})\n"
     ]
    }
   ],
   "source": [
    "task_load_s00 = AwsQuantumTask(arn = 'arn:aws:braket:us-east-1:291250255500:quantum-task/678eef21-8e4a-47d5-96b1-a89d5fbc1c5d')\n",
    "task_load_s01 = AwsQuantumTask(arn = 'arn:aws:braket:us-east-1:291250255500:quantum-task/0550e4a9-c8eb-451b-9248-38ea70ba5f42')\n",
    "task_load_s10 = AwsQuantumTask(arn = 'arn:aws:braket:us-east-1:291250255500:quantum-task/41c93c2d-68cb-4670-89dc-77828586be29')\n",
    "task_load_s11 = AwsQuantumTask(arn = 'arn:aws:braket:us-east-1:291250255500:quantum-task/68c4b43b-4fbd-43bc-b51e-f22e184bd63b')\n",
    "\n",
    "print(\"00: \", task_load_s00.result().measurement_counts)\n",
    "print(\"01: \", task_load_s01.result().measurement_counts)\n",
    "print(\"10: \", task_load_s10.result().measurement_counts)\n",
    "print(\"11: \", task_load_s11.result().measurement_counts)"
   ]
  },
  {
   "cell_type": "markdown",
   "id": "5aef659c-558e-4640-a1ee-f8622004f7ba",
   "metadata": {},
   "source": [
    "# SWAP_eigenvector"
   ]
  },
  {
   "cell_type": "code",
   "execution_count": null,
   "id": "d8aa371b",
   "metadata": {},
   "outputs": [],
   "source": [
    "sw_ev1 = Circuit()\n",
    "sw_ev1.swap(0,1)\n",
    "\n",
    "sw_ev2 = Circuit().x(1).h(0).cnot(0,1)\n",
    "sw_ev2.swap(0,1)\n",
    "\n",
    "sw_ev3 = Circuit().x(0).x(1).h(0).cnot(0,1)\n",
    "sw_ev3.swap(0,1)\n",
    "\n",
    "sw_ev4 = Circuit().x(0).x(1)\n",
    "sw_ev4.swap(0,1)"
   ]
  },
  {
   "cell_type": "code",
   "execution_count": 14,
   "id": "a379ab58-d6b1-448f-8005-c3981027f931",
   "metadata": {},
   "outputs": [
    {
     "name": "stdout",
     "output_type": "stream",
     "text": [
      "ev1 arn:aws:braket:us-east-1:291250255500:quantum-task/4d0e2564-7c84-43f5-8373-b8a02e990ca1\n",
      "ev2 arn:aws:braket:us-east-1:291250255500:quantum-task/5f6ad18a-abc1-4aaf-af33-e23e648febef\n",
      "ev3 arn:aws:braket:us-east-1:291250255500:quantum-task/3fbd9338-1131-4f62-9723-9ab4a93441c0\n",
      "ev4 arn:aws:braket:us-east-1:291250255500:quantum-task/cd126379-3811-4152-a9dc-6d03dd2ad64f\n"
     ]
    }
   ],
   "source": [
    "tasks00e = device.run(sw_ev1, shots=1000)\n",
    "tasks01e = device.run(sw_ev2, shots=1000)\n",
    "tasks10e = device.run(sw_ev3, shots=1000)\n",
    "tasks11e = device.run(sw_ev4, shots=1000)\n",
    "\n",
    "task_s00e = tasks00e.id\n",
    "task_s01e = tasks01e.id\n",
    "task_s10e = tasks10e.id\n",
    "task_s11e = tasks11e.id\n",
    "\n",
    "print(\"ev1\", task_s00e)\n",
    "print(\"ev2\", task_s01e)\n",
    "print(\"ev3\", task_s10e)\n",
    "print(\"ev4\", task_s11e)"
   ]
  },
  {
   "cell_type": "code",
   "execution_count": 16,
   "id": "e4ddabd0-7bd0-4895-9b99-45eec3b3408a",
   "metadata": {},
   "outputs": [
    {
     "name": "stdout",
     "output_type": "stream",
     "text": [
      "00:  Counter({'00': 955, '10': 18, '01': 17, '11': 10})\n",
      "01:  Counter({'01': 518, '10': 453, '00': 23, '11': 6})\n",
      "10:  Counter({'10': 493, '01': 474, '00': 23, '11': 10})\n",
      "11:  Counter({'11': 972, '01': 12, '10': 11, '00': 5})\n"
     ]
    }
   ],
   "source": [
    "task_load_s00e = AwsQuantumTask(arn = 'arn:aws:braket:us-east-1:291250255500:quantum-task/4d0e2564-7c84-43f5-8373-b8a02e990ca1')\n",
    "task_load_s01e = AwsQuantumTask(arn = 'arn:aws:braket:us-east-1:291250255500:quantum-task/5f6ad18a-abc1-4aaf-af33-e23e648febef')\n",
    "task_load_s10e = AwsQuantumTask(arn = 'arn:aws:braket:us-east-1:291250255500:quantum-task/3fbd9338-1131-4f62-9723-9ab4a93441c0')\n",
    "task_load_s11e = AwsQuantumTask(arn = 'arn:aws:braket:us-east-1:291250255500:quantum-task/cd126379-3811-4152-a9dc-6d03dd2ad64f')\n",
    "\n",
    "print(\"00: \", task_load_s00e.result().measurement_counts)\n",
    "print(\"01: \", task_load_s01e.result().measurement_counts)\n",
    "print(\"10: \", task_load_s10e.result().measurement_counts)\n",
    "print(\"11: \", task_load_s11e.result().measurement_counts)"
   ]
  },
  {
   "cell_type": "code",
   "execution_count": null,
   "id": "f52ff906-3956-4b96-ba11-44101929ba93",
   "metadata": {},
   "outputs": [],
   "source": []
  }
 ],
 "metadata": {
  "kernelspec": {
   "display_name": "Python 3 (ipykernel)",
   "language": "python",
   "name": "python3"
  },
  "language_info": {
   "codemirror_mode": {
    "name": "ipython",
    "version": 3
   },
   "file_extension": ".py",
   "mimetype": "text/x-python",
   "name": "python",
   "nbconvert_exporter": "python",
   "pygments_lexer": "ipython3",
   "version": "3.9.13"
  }
 },
 "nbformat": 4,
 "nbformat_minor": 5
}
